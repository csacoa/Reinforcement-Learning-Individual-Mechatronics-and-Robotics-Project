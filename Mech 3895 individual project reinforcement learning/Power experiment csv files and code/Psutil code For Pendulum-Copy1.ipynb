{
 "cells": [
  {
   "cell_type": "code",
   "execution_count": null,
   "id": "b7a6ca6c",
   "metadata": {},
   "outputs": [
    {
     "name": "stdout",
     "output_type": "stream",
     "text": [
      "Starting loop 1 - Algorithm: DDPG, Episodes: 224204\n",
      "Finished loop 1\n",
      "Starting loop 2 - Algorithm: A2C, Episodes: 306537\n",
      "Finished loop 2\n",
      "Starting loop 3 - Algorithm: DDPG, Episodes: 574734\n",
      "Finished loop 3\n",
      "Starting loop 4 - Algorithm: TD3, Episodes: 608217\n",
      "Finished loop 4\n",
      "Starting loop 5 - Algorithm: SAC, Episodes: 201908\n",
      "Finished loop 5\n",
      "Starting loop 6 - Algorithm: PPO, Episodes: 800926\n",
      "Finished loop 6\n",
      "Starting loop 7 - Algorithm: SAC, Episodes: 816475\n",
      "Finished loop 7\n",
      "Starting loop 8 - Algorithm: A2C, Episodes: 878081\n",
      "Finished loop 8\n",
      "Starting loop 9 - Algorithm: SAC, Episodes: 697634\n"
     ]
    }
   ],
   "source": [
    "import os\n",
    "import gym\n",
    "from stable_baselines3 import PPO, TD3, DDPG, A2C , DQN, SAC\n",
    "from stable_baselines3.common.vec_env import DummyVecEnv\n",
    "from stable_baselines3.common.evaluation import evaluate_policy\n",
    "import numpy as np\n",
    "import time\n",
    "import psutil\n",
    "import csv\n",
    "\n",
    "environment_name = 'Pendulum-v1'\n",
    "env = gym.make(environment_name)\n",
    "env = DummyVecEnv([lambda: env])\n",
    "\n",
    "algorithms = [PPO, TD3, DDPG, A2C , SAC]\n",
    "\n",
    "with open('PENDULUM POWER EXPERIMENT.csv', 'a', newline='') as csvfile:\n",
    "    writer = csv.writer(csvfile)\n",
    "    writer.writerow(['algorithm.__name__', 'number_of_episodes', 'elapsed_time_sec', 'power_consumption'])\n",
    "\n",
    "    for i in range(10000):\n",
    "        algorithm = np.random.choice(algorithms)\n",
    "        number_of_episodes = np.random.randint(100000, 1000000)\n",
    "\n",
    "        print(f\"Starting loop {i+1} - Algorithm: {algorithm.__name__}, Episodes: {number_of_episodes}\")\n",
    "\n",
    "\n",
    "        start_time = time.time()\n",
    "        model = algorithm(\"MlpPolicy\", env, verbose=0)\n",
    "        model.learn(total_timesteps=number_of_episodes)\n",
    "        end_time = time.time()\n",
    "        \n",
    "        cpu_frequency = psutil.cpu_freq().current\n",
    "\n",
    "    \n",
    "\n",
    "        # Calculate the power consumption\n",
    "        power_consumption = cpu_frequency\n",
    "        \n",
    "        elapsed_time_ms = (end_time - start_time) * 1000\n",
    "        elapsed_time_sec = elapsed_time_ms / 1000\n",
    "\n",
    "        row = [algorithm.__name__, number_of_episodes, elapsed_time_sec, power_consumption]\n",
    "        \n",
    "        # Write the results to a CSV file\n",
    "        with open('PENDULUM POWER EXPERIMENT.csv', 'a', newline='') as csvfile:\n",
    "            writer = csv.writer(csvfile)\n",
    "            writer.writerow((algorithm.__name__, number_of_episodes, elapsed_time_sec, power_consumption))\n",
    "        print(f\"Finished loop {i+1}\")\n",
    "\n"
   ]
  },
  {
   "cell_type": "code",
   "execution_count": null,
   "id": "8f96da43",
   "metadata": {},
   "outputs": [],
   "source": []
  }
 ],
 "metadata": {
  "kernelspec": {
   "display_name": "Python 3 (ipykernel)",
   "language": "python",
   "name": "python3"
  },
  "language_info": {
   "codemirror_mode": {
    "name": "ipython",
    "version": 3
   },
   "file_extension": ".py",
   "mimetype": "text/x-python",
   "name": "python",
   "nbconvert_exporter": "python",
   "pygments_lexer": "ipython3",
   "version": "3.9.13"
  }
 },
 "nbformat": 4,
 "nbformat_minor": 5
}
