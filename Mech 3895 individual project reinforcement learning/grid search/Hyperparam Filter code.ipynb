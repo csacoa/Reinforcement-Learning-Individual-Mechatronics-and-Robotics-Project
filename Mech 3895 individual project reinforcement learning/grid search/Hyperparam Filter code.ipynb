{
 "cells": [
  {
   "cell_type": "code",
   "execution_count": 13,
   "id": "1349d4f5",
   "metadata": {},
   "outputs": [],
   "source": [
    "#This code is for filtering out the results of the grid searches\n",
    "#we take all the hyperparameters that lead to a max score and then test them at lower episode counts\n",
    "\n",
    "\n",
    "\n",
    "\n",
    "with open(\"Hyperparam results second test at 3000 episodes.csv\", \"r\") as f:\n",
    "    reader = csv.reader(f, delimiter=\",\", quotechar='\"')\n",
    "\n",
    "    # Create a list of rows to keep\n",
    "    keep_rows = []\n",
    "    for row in reader:\n",
    "        if row[8] == \"500\":\n",
    "\n",
    "            keep_rows.append(row)\n",
    "\n",
    "\n",
    "    with open(\"Second_Search_at_3000_filtered.csv\", \"w\") as f:\n",
    "        writer = csv.writer(f, delimiter=\",\", quotechar='\"')\n",
    "\n",
    "        for row in keep_rows:\n",
    "            writer.writerow(row)\n"
   ]
  },
  {
   "cell_type": "code",
   "execution_count": null,
   "id": "da32e9f2",
   "metadata": {},
   "outputs": [],
   "source": []
  }
 ],
 "metadata": {
  "kernelspec": {
   "display_name": "Python 3 (ipykernel)",
   "language": "python",
   "name": "python3"
  },
  "language_info": {
   "codemirror_mode": {
    "name": "ipython",
    "version": 3
   },
   "file_extension": ".py",
   "mimetype": "text/x-python",
   "name": "python",
   "nbconvert_exporter": "python",
   "pygments_lexer": "ipython3",
   "version": "3.9.13"
  }
 },
 "nbformat": 4,
 "nbformat_minor": 5
}
