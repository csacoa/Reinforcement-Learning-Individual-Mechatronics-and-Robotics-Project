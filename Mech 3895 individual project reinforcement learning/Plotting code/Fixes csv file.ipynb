{
 "cells": [
  {
   "cell_type": "code",
   "execution_count": null,
   "id": "29c3a9ab",
   "metadata": {},
   "outputs": [],
   "source": [
    "#some of my csv files are printing the scores like \"[345]\" instead of \"345\"\n",
    "#this code remedies this"
   ]
  },
  {
   "cell_type": "code",
   "execution_count": 2,
   "id": "f33b81a1",
   "metadata": {},
   "outputs": [],
   "source": [
    "import csv\n",
    "\n",
    "with open('10 million mujoco experimentnohyper.csv', 'r') as infile:\n",
    "    reader = csv.reader(infile)\n",
    "    \n",
    "    # Transpose the rows and columns\n",
    "    rows = zip(*reader)\n",
    "    \n",
    "    # to a completely new csv file\n",
    "    with open('10 million mujoco experimentnohyper2.csv', 'w', newline='') as outfile:\n",
    "        writer = csv.writer(outfile)\n",
    "        for row in rows:\n",
    "            writer.writerow(row)\n"
   ]
  }
 ],
 "metadata": {
  "kernelspec": {
   "display_name": "Python 3 (ipykernel)",
   "language": "python",
   "name": "python3"
  },
  "language_info": {
   "codemirror_mode": {
    "name": "ipython",
    "version": 3
   },
   "file_extension": ".py",
   "mimetype": "text/x-python",
   "name": "python",
   "nbconvert_exporter": "python",
   "pygments_lexer": "ipython3",
   "version": "3.9.13"
  }
 },
 "nbformat": 4,
 "nbformat_minor": 5
}
